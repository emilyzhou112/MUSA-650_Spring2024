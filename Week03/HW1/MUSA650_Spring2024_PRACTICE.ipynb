{
  "cells": [
    {
      "cell_type": "markdown",
      "metadata": {
        "id": "29eHfAw17x3w"
      },
      "source": [
        "## HW1 - Basics of ML\n",
        "Include your code in the relevant cells below.\n",
        "Subparts labeled as questions (Q1.1, Q1.2, etc.) should have their answers filled in or plots placed prominently, as appropriate."
      ]
    },
    {
      "cell_type": "markdown",
      "metadata": {
        "id": "Veu0tqK77x3w"
      },
      "source": [
        "#### Important notes:\n",
        "\n",
        "1. On this and future homeworks, depending on the data size and your hardware configuration, experiments may take too long if you use the complete dataset. This may be challenging, as you may need to run multiple experiments. So, if an experiment takes too much time, start first with a smaller sample that will allow you to run your code within a reasonable time. Once you complete all tasks, before the final submission, you can allow longer run times and run your code with the complete set. However, if this is still taking too much time or causing your computer to freeze, it will be OK to submit experiments using a sample size that is feasible for your setting (indicate it clearly in your submission). Grading of the homework will not be affected from this type of variations in the design of your experiments.\n",
        "\n",
        "\n",
        "2. You can switch between 2D image data and 1D vector data using the numpy functions flatten() and resize()"
      ]
    },
    {
      "cell_type": "code",
      "source": [
        "# import general libraries\n",
        "import keras\n",
        "import numpy as np\n",
        "import matplotlib.pyplot as plt\n",
        "import pandas as pd"
      ],
      "metadata": {
        "id": "XQ-zdg4UBVfT"
      },
      "execution_count": 1,
      "outputs": []
    },
    {
      "cell_type": "markdown",
      "metadata": {
        "id": "BVxPp4DX7x3x"
      },
      "source": [
        "### S1: Understanding the data\n",
        "- Load MNIST FASHION dataset (hint: consider asking Bard)\n",
        "\n",
        "Q1.1: What is the number of features in the training dataset:   ___\n",
        "\n",
        "Q1.2: What is the number of samples in the training dataset:   ___\n",
        "\n",
        "Q1.1: What is the number of features in the testing dataset:   ___\n",
        "\n",
        "Q1.4: What is the number of samples in the testing dataset:   ___\n",
        "\n",
        "Q1.3: What is the dimensionality of each data sample: ___"
      ]
    },
    {
      "cell_type": "markdown",
      "source": [
        "The Fashion MNIST dataset is a dataset of 70,000 grayscale images of 10 different types of clothing, such as t-shirts, trousers, and shoes.The dataset is divided into 60,000 training images and 10,000 test images. Each image is 28x28 pixels in size, and each pixel has a value between 0 and 255."
      ],
      "metadata": {
        "id": "nRwqAi8ZOgEb"
      }
    },
    {
      "cell_type": "code",
      "source": [
        "# Get the dataset and split it into training and testing\n",
        "import tensorflow as tf\n",
        "fashion_mnist = tf.keras.datasets.fashion_mnist\n",
        "(train_images, train_labels), (test_images, test_labels) = fashion_mnist.load_data()"
      ],
      "metadata": {
        "id": "iGvMrn8dCTpH",
        "outputId": "ba3d7ee5-934f-44c6-b91d-d5028f06e17f",
        "colab": {
          "base_uri": "https://localhost:8080/"
        }
      },
      "execution_count": 2,
      "outputs": [
        {
          "output_type": "stream",
          "name": "stdout",
          "text": [
            "Downloading data from https://storage.googleapis.com/tensorflow/tf-keras-datasets/train-labels-idx1-ubyte.gz\n",
            "29515/29515 [==============================] - 0s 0us/step\n",
            "Downloading data from https://storage.googleapis.com/tensorflow/tf-keras-datasets/train-images-idx3-ubyte.gz\n",
            "26421880/26421880 [==============================] - 1s 0us/step\n",
            "Downloading data from https://storage.googleapis.com/tensorflow/tf-keras-datasets/t10k-labels-idx1-ubyte.gz\n",
            "5148/5148 [==============================] - 0s 0us/step\n",
            "Downloading data from https://storage.googleapis.com/tensorflow/tf-keras-datasets/t10k-images-idx3-ubyte.gz\n",
            "4422102/4422102 [==============================] - 1s 0us/step\n"
          ]
        }
      ]
    },
    {
      "cell_type": "markdown",
      "source": [
        "As we can see here, there are in total 60000 samples in the training set and 10000 samples in the testing set. Within each sample, there are 28 x 28 = 784 features, which is also the dimensionality of each data sample."
      ],
      "metadata": {
        "id": "JhQpq08yQBvj"
      }
    },
    {
      "cell_type": "code",
      "source": [
        "print('training features: ' + str(train_images.shape))\n",
        "print('training samples: ' + str(train_labels.shape))\n",
        "print('testing features:  '  + str(test_images.shape))\n",
        "print('testing samples:  '  + str(test_labels.shape))"
      ],
      "metadata": {
        "id": "i70tD0uHMzK_",
        "outputId": "51231f2c-91c4-460f-a27d-fab921803b6a",
        "colab": {
          "base_uri": "https://localhost:8080/"
        }
      },
      "execution_count": 4,
      "outputs": [
        {
          "output_type": "stream",
          "name": "stdout",
          "text": [
            "training features: (60000, 28, 28)\n",
            "training samples: (60000,)\n",
            "testing features:  (10000, 28, 28)\n",
            "testing samples:  (10000,)\n"
          ]
        }
      ]
    },
    {
      "cell_type": "code",
      "source": [
        "print('Unique labels: ' + str(np.unique(train_labels, return_counts=True))) # also prints the number of times each label appears"
      ],
      "metadata": {
        "id": "eryrl5OTPtrO",
        "outputId": "bfc6a3d4-e9a7-4621-f41c-5308731921b5",
        "colab": {
          "base_uri": "https://localhost:8080/"
        }
      },
      "execution_count": 9,
      "outputs": [
        {
          "output_type": "stream",
          "name": "stdout",
          "text": [
            "Unique labels: (array([0, 1, 2, 3, 4, 5, 6, 7, 8, 9], dtype=uint8), array([6000, 6000, 6000, 6000, 6000, 6000, 6000, 6000, 6000, 6000]))\n"
          ]
        }
      ]
    },
    {
      "cell_type": "markdown",
      "metadata": {
        "id": "n5OL7o8e7x3x"
      },
      "source": [
        "### S2: Viewing the data\n",
        "- Select one random example from each category from the training set. Display the 2D image with the name of the category\n",
        "\n",
        "Q2.1: Visualize the example image:   ___"
      ]
    },
    {
      "cell_type": "code",
      "source": [
        "## Read labels\n",
        "labels = np.unique(train_labels)\n",
        "\n",
        "## Create 2x5 subplot\n",
        "fig, ax = plt.subplots(nrows = 2, ncols = 5)\n",
        "\n",
        "## Loop through the list labels and assign current label to variable tmpl\n",
        "for i, tmpl in enumerate(labels):\n",
        "\n",
        "  ## Select a random image with the current label\n",
        "  indAll = np.where(train_labels == tmpl)[0]\n",
        "  indSel = indAll[np.random.randint(indAll.shape)]# randomly selects one indices from the inAll array\n",
        "  selImg = train_images[indSel,:,:].squeeze() # remove unnecessary dimensions from the image array\n",
        "\n",
        "  ## Convert loop index to 2D index for the 2x5 plot\n",
        "  a1, a2 = np.unravel_index(i, [2,5])\n",
        "\n",
        "  ## Plot image\n",
        "  ax[a1, a2].imshow(selImg)\n",
        "  ax[a1, a2].set_title('Label ' + str(tmpl))\n",
        "\n",
        "## Show image\n",
        "plt.show()"
      ],
      "metadata": {
        "id": "mSylz2HVSwPI",
        "outputId": "c2ed6af4-53a1-408f-a8c3-8732e2cde25e",
        "colab": {
          "base_uri": "https://localhost:8080/",
          "height": 370
        }
      },
      "execution_count": 10,
      "outputs": [
        {
          "output_type": "display_data",
          "data": {
            "text/plain": [
              "<Figure size 640x480 with 10 Axes>"
            ],
            "image/png": "[encoded data removed]"
          },
          "metadata": {}
        }
      ]
    },
    {
      "cell_type": "markdown",
      "metadata": {
        "id": "bzSNfWWk7x3x"
      },
      "source": [
        "### S3: Sub-sampling the data\n",
        "- Reduce training and testing sample sizes by **randomly selecting** %10 of the initial samples\n",
        "\n",
        "Q3.1: What is the distribution of each label in the initial train data (i.e. percentage of each label):   ___\n",
        "\n",
        "Q3.2: What is the distribution of each label in the reduced train data:   ___"
      ]
    },
    {
      "cell_type": "code",
      "source": [
        "## Randomly sample data\n",
        "def sample_data(X, Y, p):\n",
        "  ## Shuffle array indices\n",
        "  num_sample = X.shape[0]\n",
        "  ind_shuf = np.random.permutation(num_sample)\n",
        "\n",
        "  ## Select p percent of the shuffled indices\n",
        "  num_sel = int(num_sample / 100 * p )\n",
        "  ind_sel = ind_shuf[0:num_sel]\n",
        "\n",
        "  ## Select data\n",
        "  X_out = X[ind_sel, :]\n",
        "  Y_out = Y[ind_sel]\n",
        "\n",
        "  return X_out, Y_out\n",
        "\n",
        "X_tr_sel1, Y_tr_sel1 = sample_data(X_tr, Y_tr, 1)\n",
        "X_te_sel1, Y_te_sel1 = sample_data(X_te, Y_te, 1)"
      ],
      "metadata": {
        "id": "mwSWScCXcoJr"
      },
      "execution_count": null,
      "outputs": []
    },
    {
      "cell_type": "markdown",
      "metadata": {
        "id": "FYhUTGw57x3x"
      },
      "source": [
        "### S4: Sub-sampling the data (again)\n",
        "- Reduce training and testing sample sizes by selecting **the first** %10 of the initial samples\n",
        "\n",
        "Q4.1: What is the distribution of each label in the initial train data (i.e. percentage of each label):   ___\n",
        "\n",
        "Q4.2: What is the distribution of each label in the reduced train data:   ___\n",
        "\n",
        "Q4.3: What are your comments/interpretation on comparison of the results for S3 and S4"
      ]
    },
    {
      "cell_type": "markdown",
      "metadata": {
        "id": "ai-kWwsu7x3x"
      },
      "source": [
        "#### ! For the rest of the HW, please discard sub-sampled data from S3 and use subsampled data from S4"
      ]
    },
    {
      "cell_type": "markdown",
      "metadata": {
        "id": "xQMOEdWj7x3x"
      },
      "source": [
        "### S5: Exploring the dataset\n",
        "- Select all **train** images in category \"coat\". Create and display a single pixel-wise \"average image\" for this category.\n",
        "- Create and display a single pixel-wise \"standard deviation image\" for this category?\n",
        "- Repeat the items above for coat images in the **test** set. Compare the average and standard deviation images.\n",
        "- Repeat the items above for a different category you select.\n",
        "\n",
        "Q5.1: Plot the 2D mean and std images for category 3 in training and testing sets:   ___\n",
        "\n",
        "Q5.2: Plot the 2D mean and std images for the category you selected in training and testing sets:   ___\n",
        "\n",
        "Q5.3: Comment on differences between the mean and std images from training and testing datasets? ___"
      ]
    },
    {
      "cell_type": "markdown",
      "metadata": {
        "id": "0XsFE15o7x3x"
      },
      "source": [
        "### S6: Image distances\n",
        "- In the training set, find the image in category coat that is most dissimilar to the mean image of category coat. Show it as a 2D image\n",
        "- In the training set, find the image in category coat that is most similar to mean image of category coat. Show it as a 2D image\n",
        "- In the training set, find the image in category sandal that is most similar to mean image of category coat. Show it as a 2D image\n",
        "\n",
        "**Hint:** You can use the \"euclidean distance\" as your similarity metric. Given that an image i is represented with a flattened feature vector v_i , and the second image j with v_m, the distance between these two images can be calculated using the vector norm of their differences ( | v_i - v_j | )\n",
        "\n",
        "Q6.1: What is the index of most dissimilar image in category coat:   ___\n",
        "\n",
        "Q6.2: Plot the most dissimilar coat image in 2D:   ___\n",
        "\n",
        "Q6.3: Plot the most similar coat image in 2D:   ___"
      ]
    },
    {
      "cell_type": "markdown",
      "metadata": {
        "id": "2YQsJq1N7x3x"
      },
      "source": [
        "### S7: Image distances, part 2\n",
        "- Repeat questions S3 and S4 after binarizing the images first\n",
        "\n",
        "Q7.1: What is the index of most dis-similar coat image:   ___\n",
        "\n",
        "Q7.2: What is the index of most similar coat image:   ___\n",
        "\n",
        "Q7.3: Did the answer change after binarization? How do you interprete this finding?:   ___"
      ]
    },
    {
      "cell_type": "markdown",
      "metadata": {
        "id": "RmM0pshZ7x3x"
      },
      "source": [
        "### S8: Binary classification between category coat and sandal  (split train data)\n",
        "- Select images from these two categories in the training dataset\n",
        "- Split them into two sets (Set1, Set2) with a %60 and %40 random split\n",
        "- Replace category labels as 0 (for coat) and 1 (for sandal)\n",
        "- Use Set1 to train a linear SVM classifier with default parameters and predict the class labels for Set2\n",
        "- Use Set2 to train a linear SVM classifier with default parameters and predict the class labels for Set1\n",
        "\n",
        "Q8.1: What is the prediction accuracy using the model trained on Set1:   ___\n",
        "\n",
        "Q8.2: What is the prediction accuracy using the model trained on Set2:   ___"
      ]
    },
    {
      "cell_type": "markdown",
      "metadata": {
        "id": "AM2L5b2u7x3x"
      },
      "source": [
        "### S9: Binary classification between category coat and sandal (train + test sets)\n",
        "- Select images from these two categories in the training and testing datasets\n",
        "- Replace category labels as 0 (for coat) and 1 (for sandal)\n",
        "- Use training set to train a linear SVM classifier with default parameters and predict the class labels for the testing set\n",
        "- Use testing set to train a linear SVM classifier with default parameters and predict the class labels for the training set\n",
        "\n",
        "Q9.1: What is the prediction accuracy using the model trained on the training set:   ___\n",
        "\n",
        "Q9.2: What is the prediction accuracy using the model trained on the testing set:   ___"
      ]
    },
    {
      "cell_type": "markdown",
      "metadata": {
        "id": "nk7Ihapq7x3x"
      },
      "source": [
        "### S10: k-NN Error Analysis\n",
        "- In training and testing datasets select the images in categories: 'Trouser', 'Pullover', 'Dress', 'Coat',\n",
        "               'Sandal', 'Shirt'\n",
        "- Train k-NN classifiers using 4 to 40 nearest neighbors with a step size of 4\n",
        "- Calculate and plot overall testing accuracy for each experiment\n",
        "\n",
        "Q10.1: For k=4 what is the label that was predicted with lowest accuracy:   ___\n",
        "\n",
        "Q10.2: For k=20 what is the label that was predicted with lowest accuracy:   ___\n",
        "\n",
        "Q10.3: What is the label pair that was confused most often (i.e. class A is labeled as B, and vice versa):   ___\n",
        "\n",
        "Q10.4: Visualize 5 mislabeled samples with their actual and predicted labels"
      ]
    },
    {
      "cell_type": "markdown",
      "metadata": {
        "id": "16Dbqcy87x3y"
      },
      "source": [
        "### Bonus:\n",
        "\n",
        "- We describe each image by using a reduced set of features (compared to n=784 initial features for each pixel value) as follows:\n",
        "  \n",
        "  1. Binarize the image (background=0, foreground=1)\n",
        "\n",
        "  2. For each image row i, find n_i, the sum of 1's in the row (28 features)\n",
        "  \n",
        "  3. For each image column j, find n_j, the sum of 1's in the column (28 features)\n",
        "  \n",
        "  4. Concatenate these features into a feature vector of 56 features\n",
        "  \n",
        "Repeat classification experiments in S9 using this reduced feature set.\n",
        "\n",
        "Q11.1: What is the prediction accuracy using the model trained using the train data:   ___\n",
        "\n",
        "Q11.2: What is the prediction accuracy using the model trained using the test data:   ___\n"
      ]
    }
  ],
  "metadata": {
    "kernelspec": {
      "display_name": "Python 3 (ipykernel)",
      "language": "python",
      "name": "python3"
    },
    "language_info": {
      "codemirror_mode": {
        "name": "ipython",
        "version": 3
      },
      "file_extension": ".py",
      "mimetype": "text/x-python",
      "name": "python",
      "nbconvert_exporter": "python",
      "pygments_lexer": "ipython3",
      "version": "3.10.9"
    },
    "colab": {
      "provenance": []
    }
  },
  "nbformat": 4,
  "nbformat_minor": 0
}