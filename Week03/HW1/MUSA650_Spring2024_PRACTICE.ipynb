{
  "cells": [
    {
      "cell_type": "markdown",
      "metadata": {
        "id": "29eHfAw17x3w"
      },
      "source": [
        "## HW1 - Basics of ML\n",
        "Include your code in the relevant cells below.\n",
        "Subparts labeled as questions (Q1.1, Q1.2, etc.) should have their answers filled in or plots placed prominently, as appropriate."
      ]
    },
    {
      "cell_type": "markdown",
      "metadata": {
        "id": "Veu0tqK77x3w"
      },
      "source": [
        "#### Important notes:\n",
        "\n",
        "1. On this and future homeworks, depending on the data size and your hardware configuration, experiments may take too long if you use the complete dataset. This may be challenging, as you may need to run multiple experiments. So, if an experiment takes too much time, start first with a smaller sample that will allow you to run your code within a reasonable time. Once you complete all tasks, before the final submission, you can allow longer run times and run your code with the complete set. However, if this is still taking too much time or causing your computer to freeze, it will be OK to submit experiments using a sample size that is feasible for your setting (indicate it clearly in your submission). Grading of the homework will not be affected from this type of variations in the design of your experiments.\n",
        "\n",
        "\n",
        "2. You can switch between 2D image data and 1D vector data using the numpy functions flatten() and resize()"
      ]
    },
    {
      "cell_type": "code",
      "source": [
        "# import general libraries\n",
        "import keras\n",
        "import numpy as np\n",
        "import matplotlib.pyplot as plt\n",
        "import pandas as pd"
      ],
      "metadata": {
        "id": "XQ-zdg4UBVfT"
      },
      "execution_count": 1,
      "outputs": []
    },
    {
      "cell_type": "markdown",
      "metadata": {
        "id": "BVxPp4DX7x3x"
      },
      "source": [
        "### S1: Understanding the data\n",
        "- Load MNIST FASHION dataset (hint: consider asking Bard)\n",
        "\n",
        "Q1.1: What is the number of features in the training dataset:   ___\n",
        "\n",
        "Q1.2: What is the number of samples in the training dataset:   ___\n",
        "\n",
        "Q1.1: What is the number of features in the testing dataset:   ___\n",
        "\n",
        "Q1.4: What is the number of samples in the testing dataset:   ___\n",
        "\n",
        "Q1.3: What is the dimensionality of each data sample: ___"
      ]
    },
    {
      "cell_type": "markdown",
      "source": [
        "The Fashion MNIST dataset is a dataset of 70,000 grayscale images of 10 different types of clothing, such as t-shirts, trousers, and shoes.The dataset is divided into 60,000 training images and 10,000 test images. Each image is 28x28 pixels in size, and each pixel has a value between 0 and 255."
      ],
      "metadata": {
        "id": "nRwqAi8ZOgEb"
      }
    },
    {
      "cell_type": "code",
      "source": [
        "# Get the dataset and split it into training and testing\n",
        "import tensorflow as tf\n",
        "fashion_mnist = tf.keras.datasets.fashion_mnist\n",
        "(train_images, train_labels), (test_images, test_labels) = fashion_mnist.load_data()"
      ],
      "metadata": {
        "id": "iGvMrn8dCTpH"
      },
      "execution_count": null,
      "outputs": []
    },
    {
      "cell_type": "markdown",
      "source": [
        "As we can see here, there are in total 60000 samples in the training set and 10000 samples in the testing set. Within each sample, there are 28 x 28 = 784 features, which is also the dimensionality of each data sample."
      ],
      "metadata": {
        "id": "JhQpq08yQBvj"
      }
    },
    {
      "cell_type": "code",
      "source": [
        "print('training features: ' + str(train_images.shape))\n",
        "print('training samples: ' + str(train_labels.shape))\n",
        "print('testing features:  '  + str(test_images.shape))\n",
        "print('testing samples:  '  + str(test_labels.shape))"
      ],
      "metadata": {
        "id": "i70tD0uHMzK_",
        "outputId": "e9de922d-58e2-4246-8bd1-8fbad82bc99f",
        "colab": {
          "base_uri": "https://localhost:8080/"
        }
      },
      "execution_count": 3,
      "outputs": [
        {
          "output_type": "stream",
          "name": "stdout",
          "text": [
            "training features: (60000, 28, 28)\n",
            "training samples: (60000,)\n",
            "testing features:  (10000, 28, 28)\n",
            "testing samples:  (10000,)\n"
          ]
        }
      ]
    },
    {
      "cell_type": "code",
      "source": [
        "print('Unique labels: ' + str(np.unique(train_labels, return_counts=True)))\n",
        "# prints the unique labels\n",
        "# also prints the number of times each label appears"
      ],
      "metadata": {
        "id": "eryrl5OTPtrO",
        "outputId": "bfc6a3d4-e9a7-4621-f41c-5308731921b5",
        "colab": {
          "base_uri": "https://localhost:8080/"
        }
      },
      "execution_count": null,
      "outputs": [
        {
          "output_type": "stream",
          "name": "stdout",
          "text": [
            "Unique labels: (array([0, 1, 2, 3, 4, 5, 6, 7, 8, 9], dtype=uint8), array([6000, 6000, 6000, 6000, 6000, 6000, 6000, 6000, 6000, 6000]))\n"
          ]
        }
      ]
    },
    {
      "cell_type": "markdown",
      "metadata": {
        "id": "n5OL7o8e7x3x"
      },
      "source": [
        "### S2: Viewing the data\n",
        "- Select one random example from each category from the training set. Display the 2D image with the name of the category\n",
        "\n",
        "Q2.1: Visualize the example image:   ___"
      ]
    },
    {
      "cell_type": "code",
      "source": [
        "## Read labels\n",
        "labels = np.unique(train_labels)\n",
        "\n",
        "## Create 2x5 subplot\n",
        "fig, ax = plt.subplots(nrows = 2, ncols = 5)\n",
        "\n",
        "## Loop through the list labels and assign current label to variable tmpl\n",
        "for i, tmpl in enumerate(labels):\n",
        "\n",
        "  ## Select a random image with the current label\n",
        "  indAll = np.where(train_labels == tmpl)[0]\n",
        "  indSel = indAll[np.random.randint(indAll.shape)]# randomly selects one indices from the inAll array\n",
        "  selImg = train_images[indSel,:,:].squeeze() # remove unnecessary dimensions from the image array\n",
        "\n",
        "  ## Convert loop index to 2D index for the 2x5 plot\n",
        "  a1, a2 = np.unravel_index(i, [2,5])\n",
        "\n",
        "  ## Plot image\n",
        "  ax[a1, a2].imshow(selImg)\n",
        "  ax[a1, a2].set_title('Label ' + str(tmpl))\n",
        "\n",
        "## Show image\n",
        "plt.show()"
      ],
      "metadata": {
        "id": "mSylz2HVSwPI",
        "outputId": "acf9fd81-7e29-479b-8e47-401f0f910858",
        "colab": {
          "base_uri": "https://localhost:8080/",
          "height": 370
        }
      },
      "execution_count": 4,
      "outputs": [
        {
          "output_type": "display_data",
          "data": {
            "text/plain": [
              "<Figure size 640x480 with 10 Axes>"
            ],
            "image/png": "[encoded data removed]"
          },
          "metadata": {}
        }
      ]
    },
    {
      "cell_type": "markdown",
      "metadata": {
        "id": "bzSNfWWk7x3x"
      },
      "source": [
        "### S3: Sub-sampling the data\n",
        "- Reduce training and testing sample sizes by **randomly selecting** %10 of the initial samples\n",
        "\n",
        "Q3.1: What is the distribution of each label in the initial train data (i.e. percentage of each label):   ___\n",
        "\n",
        "Q3.2: What is the distribution of each label in the reduced train data:   ___"
      ]
    },
    {
      "cell_type": "code",
      "source": [
        "## Randomly sample data\n",
        "def sample_data(X, Y, p):\n",
        "  # X: a 2D array representing data points\n",
        "  # Y: a 1D array representing labels for each data points\n",
        "  # p as of random percentages\n",
        "\n",
        "\n",
        "  ## Shuffle array indices\n",
        "  num_sample = X.shape[0] # finds total number of data points\n",
        "  ind_shuf = np.random.permutation(num_sample) # shuffle the indices\n",
        "\n",
        "  ## Select p percent of the shuffled indices\n",
        "  num_sel = int(num_sample / 100 * p ) ####### question part, we are getting 1%\n",
        "  ind_sel = ind_shuf[0:num_sel]\n",
        "\n",
        "  ## Select data\n",
        "  X_out = X[ind_sel, :]\n",
        "  Y_out = Y[ind_sel]\n",
        "\n",
        "  return X_out, Y_out"
      ],
      "metadata": {
        "id": "mwSWScCXcoJr"
      },
      "execution_count": 37,
      "outputs": []
    },
    {
      "cell_type": "code",
      "source": [
        "train_images_sel, train_labels_sel = sample_data(train_images, train_labels, 1) ## why 1% here?\n",
        "test_images_sel, test_labels_sel = sample_data(test_images, test_labels, 1)"
      ],
      "metadata": {
        "id": "Xwi8-Tftf1iL"
      },
      "execution_count": 38,
      "outputs": []
    },
    {
      "cell_type": "code",
      "source": [
        "# distribution of label in initial train data\n",
        "unique, count = np.unique(train_labels, return_counts=True)\n",
        "\n",
        "# dis of label in selected train data\n",
        "unique_sel, count_sel = np.unique(train_labels_sel, return_counts=True)"
      ],
      "metadata": {
        "id": "lt-mqkAqgPZC"
      },
      "execution_count": 39,
      "outputs": []
    },
    {
      "cell_type": "code",
      "source": [
        "unique_sel"
      ],
      "metadata": {
        "id": "v3cXNQz6-ngx",
        "outputId": "57401da3-4e76-4e65-951b-0f98b621729a",
        "colab": {
          "base_uri": "https://localhost:8080/"
        }
      },
      "execution_count": 85,
      "outputs": [
        {
          "output_type": "execute_result",
          "data": {
            "text/plain": [
              "array([0, 1, 2, 3, 4, 5, 6, 7, 8, 9], dtype=uint8)"
            ]
          },
          "metadata": {},
          "execution_count": 85
        }
      ]
    },
    {
      "cell_type": "code",
      "source": [
        "count_sel\n",
        "# total is 600"
      ],
      "metadata": {
        "id": "QuZ2frUH-prH",
        "outputId": "6052b464-49ca-4426-9bf0-3f6f91598b35",
        "colab": {
          "base_uri": "https://localhost:8080/"
        }
      },
      "execution_count": 89,
      "outputs": [
        {
          "output_type": "execute_result",
          "data": {
            "text/plain": [
              "array([62, 66, 57, 58, 59, 58, 66, 61, 58, 55])"
            ]
          },
          "metadata": {},
          "execution_count": 89
        }
      ]
    },
    {
      "cell_type": "code",
      "source": [
        "train_labels_sel.shape[0] # 600 selected out of 60000"
      ],
      "metadata": {
        "id": "7Syf0CHF_GWG",
        "outputId": "797eafd7-5486-4515-999a-f318db120021",
        "colab": {
          "base_uri": "https://localhost:8080/"
        }
      },
      "execution_count": 88,
      "outputs": [
        {
          "output_type": "execute_result",
          "data": {
            "text/plain": [
              "600"
            ]
          },
          "metadata": {},
          "execution_count": 88
        }
      ]
    },
    {
      "cell_type": "code",
      "source": [
        "p1 = (100*count / train_labels.shape[0]).reshape(1,-1) # reshape array to have one row\n",
        "p2 = (100*count_sel / train_labels_sel.shape[0]).reshape(1,-1) ##### why times 100 here\n",
        "## Find percentage of samples for each label\n",
        "print(p1)\n",
        "print(p2)"
      ],
      "metadata": {
        "id": "qTl9bcxliI5e",
        "outputId": "45509fa8-3a9e-4d89-b311-51e8b665ed70",
        "colab": {
          "base_uri": "https://localhost:8080/"
        }
      },
      "execution_count": 22,
      "outputs": [
        {
          "output_type": "stream",
          "name": "stdout",
          "text": [
            "[[10. 10. 10. 10. 10. 10. 10. 10. 10. 10.]]\n",
            "[[ 8.83333333  9.66666667  9.5         8.66666667 10.5        13.5\n",
            "   9.83333333  9.         11.16666667  9.33333333]]\n"
          ]
        }
      ]
    },
    {
      "cell_type": "code",
      "source": [
        "count / train_labels.shape[0]"
      ],
      "metadata": {
        "id": "zSbIdh9V2UbK",
        "outputId": "0ff19d21-94e0-494c-f266-7b5287bc66ef",
        "colab": {
          "base_uri": "https://localhost:8080/"
        }
      },
      "execution_count": 84,
      "outputs": [
        {
          "output_type": "execute_result",
          "data": {
            "text/plain": [
              "array([0.1, 0.1, 0.1, 0.1, 0.1, 0.1, 0.1, 0.1, 0.1, 0.1])"
            ]
          },
          "metadata": {},
          "execution_count": 84
        }
      ]
    },
    {
      "cell_type": "code",
      "source": [
        "combined = np.concatenate((p1, p2), axis=0)\n",
        "df = pd.DataFrame(data = combined, columns = labels, index = ['train_images','train_images_selected'])\n",
        "\n",
        "df.plot.bar()\n",
        "plt.show()"
      ],
      "metadata": {
        "id": "tgsYDAxFjotP",
        "outputId": "5e4168b4-fb9b-4e30-cc3f-8d1fd106aed9",
        "colab": {
          "base_uri": "https://localhost:8080/",
          "height": 572
        }
      },
      "execution_count": 31,
      "outputs": [
        {
          "output_type": "display_data",
          "data": {
            "text/plain": [
              "<Figure size 640x480 with 1 Axes>"
            ],
            "image/png": "[encoded data removed]"
          },
          "metadata": {}
        }
      ]
    },
    {
      "cell_type": "markdown",
      "metadata": {
        "id": "FYhUTGw57x3x"
      },
      "source": [
        "### S4: Sub-sampling the data (again)\n",
        "- Reduce training and testing sample sizes by selecting **the first** %10 of the initial samples\n",
        "\n",
        "Q4.1: What is the distribution of each label in the initial train data (i.e. percentage of each label):   ___\n",
        "\n",
        "Q4.2: What is the distribution of each label in the reduced train data:   ___\n",
        "\n",
        "Q4.3: What are your comments/interpretation on comparison of the results for S3 and S4"
      ]
    },
    {
      "cell_type": "code",
      "source": [
        "## Randomly sample data\n",
        "def sample_data_again(X, Y, p, is_shuffle = False):\n",
        "  ## Shuffle array indices\n",
        "  num_sample = X.shape[0]\n",
        "\n",
        "  if is_shuffle == True:\n",
        "    ind_shuf = np.random.permutation(num_sample)\n",
        "  else:\n",
        "    ind_shuf = np.arange(0,num_sample)\n",
        "\n",
        "  ## Select p percent of the shuffled indices\n",
        "  num_sel = int(num_sample / 100 * p )\n",
        "  ind_sel = ind_shuf[0:num_sel]\n",
        "\n",
        "  ## Select data\n",
        "  X_out = X[ind_sel, :]\n",
        "  Y_out = Y[ind_sel]\n",
        "\n",
        "  return X_out, Y_out"
      ],
      "metadata": {
        "id": "EENhbN5YndKF"
      },
      "execution_count": 90,
      "outputs": []
    },
    {
      "cell_type": "code",
      "source": [
        "train_images_sel, train_labels_sel = sample_data_again(train_images, train_labels, 1)\n",
        "test_images_sel, test_labels_sel = sample_data_again(test_images, test_labels, 1)"
      ],
      "metadata": {
        "id": "HRU4rY9jpRUS"
      },
      "execution_count": 91,
      "outputs": []
    },
    {
      "cell_type": "code",
      "source": [
        "# distribution of label in initial train data\n",
        "unique, count = np.unique(train_labels, return_counts=True)\n",
        "\n",
        "# dis of label in selected train data\n",
        "unique_sel, count_sel = np.unique(train_labels_sel, return_counts=True)"
      ],
      "metadata": {
        "id": "doW_qViq0J5C"
      },
      "execution_count": 92,
      "outputs": []
    },
    {
      "cell_type": "code",
      "source": [
        "p3 = (100*count / train_labels.shape[0]).reshape(1,-1) # reshape array to have one row\n",
        "p4 = (100*count_sel / train_labels_sel.shape[0]).reshape(1,-1)\n",
        "## Find percentage of samples for each label\n",
        "print(p3)\n",
        "print(p4)"
      ],
      "metadata": {
        "id": "puj5smAs0Zj0",
        "outputId": "aa419447-3c7d-4ffd-e748-4bde90a43138",
        "colab": {
          "base_uri": "https://localhost:8080/"
        }
      },
      "execution_count": 93,
      "outputs": [
        {
          "output_type": "stream",
          "name": "stdout",
          "text": [
            "[[10. 10. 10. 10. 10. 10. 10. 10. 10. 10.]]\n",
            "[[10.33333333 11.          9.5         9.66666667  9.83333333  9.66666667\n",
            "  11.         10.16666667  9.66666667  9.16666667]]\n"
          ]
        }
      ]
    },
    {
      "cell_type": "code",
      "source": [
        "combined2 = np.concatenate((p3, p4), axis=0)\n",
        "df = pd.DataFrame(data = combined, columns = labels, index = ['train_images','train_images_selected'])\n",
        "\n",
        "df.plot.bar()\n",
        "plt.show()"
      ],
      "metadata": {
        "id": "LNfBJCuU1Tn3",
        "outputId": "fe252146-fe9d-4c4c-d691-37b7d0585057",
        "colab": {
          "base_uri": "https://localhost:8080/",
          "height": 572
        }
      },
      "execution_count": 94,
      "outputs": [
        {
          "output_type": "display_data",
          "data": {
            "text/plain": [
              "<Figure size 640x480 with 1 Axes>"
            ],
            "image/png": "[encoded data removed]"
          },
          "metadata": {}
        }
      ]
    },
    {
      "cell_type": "markdown",
      "metadata": {
        "id": "ai-kWwsu7x3x"
      },
      "source": [
        "#### ! For the rest of the HW, please discard sub-sampled data from S3 and use subsampled data from S4"
      ]
    },
    {
      "cell_type": "markdown",
      "metadata": {
        "id": "xQMOEdWj7x3x"
      },
      "source": [
        "### S5: Exploring the dataset\n",
        "- Select all **train** images in category \"coat\". Create and display a single pixel-wise \"average image\" for this category.\n",
        "- Create and display a single pixel-wise \"standard deviation image\" for this category?\n",
        "- Repeat the items above for coat images in the **test** set. Compare the average and standard deviation images.\n",
        "- Repeat the items above for a different category you select.\n",
        "\n",
        "Q5.1: Plot the 2D mean and std images for category 3 in training and testing sets:   ___\n",
        "\n",
        "Q5.2: Plot the 2D mean and std images for the category you selected in training and testing sets:   ___\n",
        "\n",
        "Q5.3: Comment on differences between the mean and std images from training and testing datasets? ___"
      ]
    },
    {
      "cell_type": "code",
      "source": [
        "# Select all train images in category 3\n",
        "cat3_label = np.where(train_labels_sel == 3)[0]\n",
        "cat3_img = train_images_sel[cat3_label, :, :]\n",
        "print(\"Number of coat labels: \" + str(cat3_label.shape))\n",
        "print(\"Number of coat images: \" + str(cat3_img.shape))\n",
        "# There are 59 matching images"
      ],
      "metadata": {
        "id": "sflQNiHKlcNR",
        "outputId": "d65983cc-6b94-4449-a369-1f9b725850d3",
        "colab": {
          "base_uri": "https://localhost:8080/"
        }
      },
      "execution_count": 111,
      "outputs": [
        {
          "output_type": "stream",
          "name": "stdout",
          "text": [
            "Number of coat labels: (58,)\n",
            "Number of coat images: (58, 28, 28)\n"
          ]
        }
      ]
    },
    {
      "cell_type": "code",
      "source": [
        "# Create and display a single pixel-wise \"average image\" for this category\n",
        "img_mean = np.mean(cat3_img, axis=0) # calculate mean score across the first dimension\n",
        "plt.imshow(img_mean)\n",
        "plt.show()"
      ],
      "metadata": {
        "id": "uqkxdyEDqg_i",
        "outputId": "5feb37f3-aa5b-4564-fffd-6983af7e9c1f",
        "colab": {
          "base_uri": "https://localhost:8080/",
          "height": 430
        }
      },
      "execution_count": 112,
      "outputs": [
        {
          "output_type": "display_data",
          "data": {
            "text/plain": [
              "<Figure size 640x480 with 1 Axes>"
            ],
            "image/png": "[encoded data removed]"
          },
          "metadata": {}
        }
      ]
    },
    {
      "cell_type": "code",
      "source": [
        "img_std = np.mean(cat3_img, axis=0) # calculate mean score across the first dimension\n",
        "plt.imshow(img_std)\n",
        "plt.show()"
      ],
      "metadata": {
        "id": "d8KaIaZYsM1T",
        "outputId": "02334fe3-a1f8-409e-c651-e11a65a24ed9",
        "colab": {
          "base_uri": "https://localhost:8080/",
          "height": 430
        }
      },
      "execution_count": 113,
      "outputs": [
        {
          "output_type": "display_data",
          "data": {
            "text/plain": [
              "<Figure size 640x480 with 1 Axes>"
            ],
            "image/png": "[encoded data removed]"
          },
          "metadata": {}
        }
      ]
    },
    {
      "cell_type": "markdown",
      "metadata": {
        "id": "0XsFE15o7x3x"
      },
      "source": [
        "### S6: Image distances\n",
        "- In the training set, find the image in category coat that is most dissimilar to the mean image of category coat. Show it as a 2D image\n",
        "- In the training set, find the image in category coat that is most similar to mean image of category coat. Show it as a 2D image\n",
        "- In the training set, find the image in category sandal that is most similar to mean image of category coat. Show it as a 2D image\n",
        "\n",
        "**Hint:** You can use the \"euclidean distance\" as your similarity metric. Given that an image i is represented with a flattened feature vector v_i , and the second image j with v_m, the distance between these two images can be calculated using the vector norm of their differences ( | v_i - v_j | )\n",
        "\n",
        "Q6.1: What is the index of most dissimilar image in category coat:   ___\n",
        "\n",
        "Q6.2: Plot the most dissimilar coat image in 2D:   ___\n",
        "\n",
        "Q6.3: Plot the most similar coat image in 2D:   ___"
      ]
    },
    {
      "cell_type": "code",
      "source": [
        "mean_img_vector = img_mean.flatten() # convert it to a contiguous 1D array\n",
        "dist_array = np.zeros(cat3_label.shape[0])\n",
        "\n",
        "for i, img in enumerate(cat3_label):\n",
        "  img_sel = train_images_sel[img, :, :].flatten()\n",
        "\n",
        "  distance = np.sqrt(np.dot(mean_img_vector - img_sel, mean_img_vector - img_sel))\n",
        "\n",
        "  dist_array[i] = distance"
      ],
      "metadata": {
        "id": "NvrLkbRutQDQ"
      },
      "execution_count": 117,
      "outputs": []
    },
    {
      "cell_type": "code",
      "source": [
        "# most similar image in category 3\n",
        "img_similar = cat3_label[dist_array.argmin()]\n",
        "# most disimilar image in category 3\n",
        "img_dissimilar = cat3_label[dist_array.argmax()]\n",
        "\n",
        "print(\"Most similar image index: \" + str(img_similar))\n",
        "print(\"Most dissimilar image index: \" + str(img_dissimilar))"
      ],
      "metadata": {
        "id": "TaFHotmLycMD",
        "outputId": "b68643e7-aeab-4045-85a0-78acece28367",
        "colab": {
          "base_uri": "https://localhost:8080/"
        }
      },
      "execution_count": 121,
      "outputs": [
        {
          "output_type": "stream",
          "name": "stdout",
          "text": [
            "Most similar image index: 455\n",
            "Most dissimilar image index: 318\n"
          ]
        }
      ]
    },
    {
      "cell_type": "code",
      "source": [
        "# similar image\n",
        "plt.imshow(train_images_sel[img_similar,:,:])\n",
        "plt.show()"
      ],
      "metadata": {
        "id": "RqcExDyR1NDg",
        "outputId": "c324c226-0921-490e-e241-17b9a6f65974",
        "colab": {
          "base_uri": "https://localhost:8080/",
          "height": 430
        }
      },
      "execution_count": 123,
      "outputs": [
        {
          "output_type": "display_data",
          "data": {
            "text/plain": [
              "<Figure size 640x480 with 1 Axes>"
            ],
            "image/png": "[encoded data removed]"
          },
          "metadata": {}
        }
      ]
    },
    {
      "cell_type": "code",
      "source": [
        "# similar image\n",
        "plt.imshow(train_images_sel[img_dissimilar,:,:])\n",
        "plt.show()"
      ],
      "metadata": {
        "id": "MVi94sbo1yTP",
        "outputId": "634ee5c9-ecfa-4ff9-da6b-c73b52163e0a",
        "colab": {
          "base_uri": "https://localhost:8080/",
          "height": 430
        }
      },
      "execution_count": 126,
      "outputs": [
        {
          "output_type": "display_data",
          "data": {
            "text/plain": [
              "<Figure size 640x480 with 1 Axes>"
            ],
            "image/png": "[encoded data removed]"
          },
          "metadata": {}
        }
      ]
    },
    {
      "cell_type": "markdown",
      "metadata": {
        "id": "2YQsJq1N7x3x"
      },
      "source": [
        "### S7: Image distances, part 2\n",
        "- Repeat questions S3 and S4 after binarizing the images first\n",
        "\n",
        "Q7.1: What is the index of most dis-similar coat image:   ___\n",
        "\n",
        "Q7.2: What is the index of most similar coat image:   ___\n",
        "\n",
        "Q7.3: Did the answer change after binarization? How do you interprete this finding?:   ___"
      ]
    },
    {
      "cell_type": "code",
      "source": [
        "# binarize image\n",
        "binary_train_images = (train_images_sel > 128).astype(int) ##  why binarize it?\n",
        "\n",
        "cat3_label = np.where(train_labels_sel == 3)[0]\n",
        "cat3_img = binary_train_images[cat3_label, :, :]\n",
        "print(\"Number of coat labels: \" + str(cat3_label.shape))\n",
        "print(\"Number of coat images: \" + str(cat3_img.shape))"
      ],
      "metadata": {
        "id": "XdYs3vsW3t98",
        "outputId": "5d78fb3e-6315-4414-f37a-fe95bca0c9d3",
        "colab": {
          "base_uri": "https://localhost:8080/"
        }
      },
      "execution_count": 130,
      "outputs": [
        {
          "output_type": "stream",
          "name": "stdout",
          "text": [
            "Number of coat labels: (58,)\n",
            "Number of coat images: (58, 28, 28)\n"
          ]
        }
      ]
    },
    {
      "cell_type": "code",
      "source": [
        "img_mean = np.mean(cat3_img, axis=0)\n",
        "mean_img_vector = img_mean.flatten() # convert it to a contiguous 1D array\n",
        "dist_array = np.zeros(cat3_label.shape[0])\n",
        "\n",
        "for i, img in enumerate(cat3_label):\n",
        "  img_sel = binary_train_images[img, :, :].flatten()\n",
        "  distance = np.sqrt(np.dot(mean_img_vector - img_sel, mean_img_vector - img_sel))\n",
        "  dist_array[i] = distance\n",
        "\n",
        "img_similar = cat3_label[dist_array.argmin()]\n",
        "img_dissimilar = cat3_label[dist_array.argmax()]"
      ],
      "metadata": {
        "id": "TIIwDRKF9fhm"
      },
      "execution_count": 131,
      "outputs": []
    },
    {
      "cell_type": "code",
      "source": [
        "plt.imshow(binary_train_images[img_similar,:,:])\n",
        "plt.show()"
      ],
      "metadata": {
        "id": "jXRCxWTb93zL",
        "outputId": "a4c18ebb-ae42-4e9b-860a-df213a7c4f23",
        "colab": {
          "base_uri": "https://localhost:8080/",
          "height": 430
        }
      },
      "execution_count": 132,
      "outputs": [
        {
          "output_type": "display_data",
          "data": {
            "text/plain": [
              "<Figure size 640x480 with 1 Axes>"
            ],
            "image/png": "[encoded data removed]"
          },
          "metadata": {}
        }
      ]
    },
    {
      "cell_type": "code",
      "source": [
        "plt.imshow(binary_train_images[img_dissimilar,:,:])\n",
        "plt.show()"
      ],
      "metadata": {
        "id": "JmcWWi_j-IQh",
        "outputId": "c6696bbf-a2a0-4373-aeef-e6cbb8c3eeb1",
        "colab": {
          "base_uri": "https://localhost:8080/",
          "height": 430
        }
      },
      "execution_count": 133,
      "outputs": [
        {
          "output_type": "display_data",
          "data": {
            "text/plain": [
              "<Figure size 640x480 with 1 Axes>"
            ],
            "image/png": "[encoded data removed]"
          },
          "metadata": {}
        }
      ]
    },
    {
      "cell_type": "markdown",
      "metadata": {
        "id": "RmM0pshZ7x3x"
      },
      "source": [
        "### S8: Binary classification between category coat and sandal  (split train data)\n",
        "- Select images from these two categories in the training dataset\n",
        "- Split them into two sets (Set1, Set2) with a %60 and %40 random split\n",
        "- Replace category labels as 0 (for coat) and 1 (for sandal)\n",
        "- Use Set1 to train a linear SVM classifier with default parameters and predict the class labels for Set2\n",
        "- Use Set2 to train a linear SVM classifier with default parameters and predict the class labels for Set1\n",
        "\n",
        "Q8.1: What is the prediction accuracy using the model trained on Set1:   ___\n",
        "\n",
        "Q8.2: What is the prediction accuracy using the model trained on Set2:   ___"
      ]
    },
    {
      "cell_type": "code",
      "source": [
        "from sklearn.model_selection import train_test_split\n",
        "\n",
        "# select images from these coat and sandal in the training dataset\n",
        "coat_sandal = np.where((train_labels_sel == 4) | (train_labels_sel == 5))[0] # the index\n",
        "cs_img = train_images_sel[coat_sandal, :, :]\n",
        "cs_label = train_labels_sel[coat_sandal] # the actual label"
      ],
      "metadata": {
        "id": "KSbgDzYf-mhG"
      },
      "execution_count": 142,
      "outputs": []
    },
    {
      "cell_type": "code",
      "source": [
        "# replace category labels\n",
        "cs_label[cs_label == 4] = 0 ## why turn it into binary here?\n",
        "cs_label[cs_label == 5] = 1\n",
        "\n",
        "cs_img = cs_img.reshape(cs_img.shape[0], -1) #\n",
        "# what's the purpose of reshaping before feeding it into ML model?\n",
        "cs_img"
      ],
      "metadata": {
        "id": "00tV-JBTDt36",
        "outputId": "5bfb2dcc-dd3a-4c5e-8318-effec2df8bbf",
        "colab": {
          "base_uri": "https://localhost:8080/"
        }
      },
      "execution_count": 148,
      "outputs": [
        {
          "output_type": "execute_result",
          "data": {
            "text/plain": [
              "array([[0, 0, 0, ..., 0, 0, 0],\n",
              "       [0, 0, 0, ..., 0, 0, 0],\n",
              "       [0, 0, 0, ..., 0, 0, 0],\n",
              "       ...,\n",
              "       [0, 0, 0, ..., 0, 0, 0],\n",
              "       [0, 0, 0, ..., 0, 0, 0],\n",
              "       [0, 0, 0, ..., 0, 0, 0]], dtype=uint8)"
            ]
          },
          "metadata": {},
          "execution_count": 148
        }
      ]
    },
    {
      "cell_type": "code",
      "source": [
        "# random split\n",
        "cs_img_train, cs_img_test, cs_label_train, cs_label_test = train_test_split(cs_img, cs_label, test_size=0.4, random_state=42)"
      ],
      "metadata": {
        "id": "eQzqzZUPF8tq"
      },
      "execution_count": 149,
      "outputs": []
    },
    {
      "cell_type": "code",
      "source": [
        "# Use Set1 to train a linear SVM classifier with default parameters and predict the class labels for Set2\n",
        "# What does it mean to predict the class label?\n",
        "\n",
        "from sklearn import svm ## what is a linear SVM classifier\n",
        "from sklearn import metrics\n",
        "\n",
        "cs_img_test = cs_img_test.reshape(cs_img_test.shape[0], -1)\n",
        "\n",
        "# Create the svm classifier\n",
        "clf = svm.SVC(kernel='linear')\n",
        "\n",
        "# Train the model\n",
        "clf.fit(cs_img_train, cs_label_train)\n",
        "\n",
        "# Predict the label\n",
        "cs_label_pred = clf.predict(cs_img_test)\n",
        "\n",
        "# Accuracy\n",
        "print('Accuracy: ', metrics.accuracy_score(cs_label_test, cs_label_pred))"
      ],
      "metadata": {
        "id": "OgARR2SJGJ2H",
        "outputId": "af3e1837-f313-40d6-e78a-7591b81a11c3",
        "colab": {
          "base_uri": "https://localhost:8080/"
        }
      },
      "execution_count": 153,
      "outputs": [
        {
          "output_type": "stream",
          "name": "stdout",
          "text": [
            "Accuracy:  0.9574468085106383\n"
          ]
        }
      ]
    },
    {
      "cell_type": "code",
      "source": [
        "# Use Set2 to train a linear SVM classifier with default parameters and predict the class labels for Set1\n",
        "clf.fit(cs_img_test, cs_label_test)\n",
        "\n",
        "# Predict the label\n",
        "cs_label_pred = clf.predict(cs_img_train)\n",
        "\n",
        "print('Accuracy: ', metrics.accuracy_score(cs_label_train, cs_label_pred))\n",
        "\n",
        "## why does the accuracy score increases?"
      ],
      "metadata": {
        "id": "R0oWmryfKzXJ",
        "outputId": "7b079c4f-dece-411d-c9d0-f75ae0009aed",
        "colab": {
          "base_uri": "https://localhost:8080/"
        }
      },
      "execution_count": 154,
      "outputs": [
        {
          "output_type": "stream",
          "name": "stdout",
          "text": [
            "Accuracy:  0.9857142857142858\n"
          ]
        }
      ]
    },
    {
      "cell_type": "markdown",
      "metadata": {
        "id": "nk7Ihapq7x3x"
      },
      "source": [
        "### S9: k-NN Error Analysis\n",
        "- In training and testing datasets select the images in categories: 'Trouser', 'Pullover', 'Dress', 'Coat',\n",
        "               'Sandal', 'Shirt'\n",
        "- Train k-NN classifiers using 4 to 40 nearest neighbors with a step size of 4\n",
        "- Calculate and plot overall testing accuracy for each experiment\n",
        "\n",
        "Q10.1: For k=4 what is the label that was predicted with lowest accuracy:   ___\n",
        "\n",
        "Q10.2: For k=20 what is the label that was predicted with lowest accuracy:   ___\n",
        "\n",
        "Q10.3: What is the label pair that was confused most often (i.e. class A is labeled as B, and vice versa):   ___\n",
        "\n",
        "Q10.4: Visualize 5 mislabeled samples with their actual and predicted labels"
      ]
    },
    {
      "cell_type": "code",
      "source": [
        "outfit_index = np.where(np.isin(train_labels_sel,[1, 3, 5, 7, 9]) == True)[0]\n",
        "outfit_img = train_images_sel[outfit_index, :, :]\n",
        "outfit_label = train_labels_sel[outfit_index]\n",
        "\n",
        "## Flatten images\n",
        "outfit_img = outfit_img.reshape(outfit_img.shape[0], -1)\n",
        "\n",
        "## Create train test data\n",
        "outfit_img_train, outfit_img_test, outfit_label_train, outfit_label_test = train_test_split(outfit_img, outfit_label, test_size=0.4, random_state=42)"
      ],
      "metadata": {
        "id": "14ENyTupLi84"
      },
      "execution_count": 156,
      "outputs": []
    },
    {
      "cell_type": "markdown",
      "source": [
        "The basic idea behind k-NN is to find the k most similar training examples to a new, unknown example and then use the labels of those training examples to predict the label of the unknown example. We are training 10 different k-NN classifiers, with the number of nearest neighbors ranging from 4 to 40 in increments of 4. The concept behind this is to find the optimal number of nearest neighbors for the k-NN classifier."
      ],
      "metadata": {
        "id": "40bz-AHrODhE"
      }
    },
    {
      "cell_type": "code",
      "source": [
        "from sklearn.neighbors import KNeighborsClassifier\n",
        "from sklearn.metrics import classification_report, confusion_matrix, accuracy_score\n",
        "\n",
        "arr_k = np.arange(4, 40, 4)\n",
        "mat_pred = np.zeros([arr_k.shape[0], outfit_label_test.shape[0]])     ## Matrix to keep predictions from each experiment\n",
        "acc_pred = np.zeros([arr_k.shape[0], 1])     ## Array to keep accuracy from each experiment\n",
        "for i, k in enumerate(arr_k):\n",
        "  classifier = KNeighborsClassifier(n_neighbors = k)\n",
        "  classifier.fit(outfit_img_train, outfit_label_train)\n",
        "  y_pred = classifier.predict(outfit_img_test)\n",
        "  mat_pred [i, :] = y_pred\n",
        "  acc_pred[i] = metrics.accuracy_score(outfit_label_test, y_pred)"
      ],
      "metadata": {
        "id": "xdyi0uTvOgO-"
      },
      "execution_count": 158,
      "outputs": []
    },
    {
      "cell_type": "code",
      "source": [
        "print(acc_pred)"
      ],
      "metadata": {
        "id": "N7DXW3MFPci4",
        "outputId": "09d5ef37-6295-4074-a47a-8e586495f404",
        "colab": {
          "base_uri": "https://localhost:8080/"
        }
      },
      "execution_count": 159,
      "outputs": [
        {
          "output_type": "stream",
          "name": "stdout",
          "text": [
            "[[0.875     ]\n",
            " [0.86666667]\n",
            " [0.86666667]\n",
            " [0.85833333]\n",
            " [0.85833333]\n",
            " [0.825     ]\n",
            " [0.81666667]\n",
            " [0.8       ]\n",
            " [0.775     ]]\n"
          ]
        }
      ]
    },
    {
      "cell_type": "code",
      "source": [
        "result = confusion_matrix(outfit_label_test, mat_pred[0])\n",
        "print(\"Confusion Matrix:\")\n",
        "print(result)"
      ],
      "metadata": {
        "id": "FPMZZHhkRGus",
        "outputId": "857ad86c-075b-41b7-feca-c7a9f7ad3e6a",
        "colab": {
          "base_uri": "https://localhost:8080/"
        }
      },
      "execution_count": 163,
      "outputs": [
        {
          "output_type": "stream",
          "name": "stdout",
          "text": [
            "Confusion Matrix:\n",
            "[[26  0  0  0  0]\n",
            " [ 1 23  0  0  0]\n",
            " [ 0  1 19  2  5]\n",
            " [ 0  0  1 18  1]\n",
            " [ 0  0  0  4 19]]\n"
          ]
        }
      ]
    },
    {
      "cell_type": "markdown",
      "metadata": {
        "id": "16Dbqcy87x3y"
      },
      "source": [
        "### Bonus:\n",
        "\n",
        "- We describe each image by using a reduced set of features (compared to n=784 initial features for each pixel value) as follows:\n",
        "  \n",
        "  1. Binarize the image (background=0, foreground=1)\n",
        "\n",
        "  2. For each image row i, find n_i, the sum of 1's in the row (28 features)\n",
        "  \n",
        "  3. For each image column j, find n_j, the sum of 1's in the column (28 features)\n",
        "  \n",
        "  4. Concatenate these features into a feature vector of 56 features\n",
        "  \n",
        "Repeat classification experiments in S9 using this reduced feature set.\n",
        "\n",
        "Q11.1: What is the prediction accuracy using the model trained using the train data:   ___\n",
        "\n",
        "Q11.2: What is the prediction accuracy using the model trained using the test data:   ___\n"
      ]
    }
  ],
  "metadata": {
    "kernelspec": {
      "display_name": "Python 3 (ipykernel)",
      "language": "python",
      "name": "python3"
    },
    "language_info": {
      "codemirror_mode": {
        "name": "ipython",
        "version": 3
      },
      "file_extension": ".py",
      "mimetype": "text/x-python",
      "name": "python",
      "nbconvert_exporter": "python",
      "pygments_lexer": "ipython3",
      "version": "3.10.9"
    },
    "colab": {
      "provenance": []
    }
  },
  "nbformat": 4,
  "nbformat_minor": 0
}